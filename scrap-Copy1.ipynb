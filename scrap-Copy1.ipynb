{
 "cells": [
  {
   "cell_type": "code",
   "execution_count": 1,
   "metadata": {},
   "outputs": [],
   "source": [
    "import requests\n",
    "from bs4 import BeautifulSoup\n",
    "url = \"https://www.goodreads.com/quotes/tag/{}?page={}\""
   ]
  },
  {
   "cell_type": "code",
   "execution_count": 2,
   "metadata": {},
   "outputs": [],
   "source": [
    "def scrap(url):\n",
    "    data = requests.get(url)\n",
    "\n",
    "    soup = BeautifulSoup(data.text)\n",
    "\n",
    "    quote_divs = soup.find_all(\"div\", attrs={\"class\":\"quote\"})\n",
    "\n",
    "    content = []\n",
    "\n",
    "    for quote_div in quote_divs:\n",
    "\n",
    "        quoteText_div = quote_div.find(\"div\", attrs={\"class\":\"quoteText\"})\n",
    "        quoteText = quoteText_div.text\n",
    "        author = quoteText_div.find(\"span\").text.strip()\n",
    "        quote = quoteText.strip().split(\"\\n\")[0][1:-1]\n",
    "        content.append([author, quote])\n",
    "    \n",
    "    return content"
   ]
  },
  {
   "cell_type": "code",
   "execution_count": 3,
   "metadata": {},
   "outputs": [
    {
     "name": "stdin",
     "output_type": "stream",
     "text": [
      "Enter the emotion :  sad\n",
      "Enter number of pages :  4\n"
     ]
    }
   ],
   "source": [
    "emotion = input(\"Enter the emotion : \")\n",
    "pages = int(input(\"Enter number of pages : \"))"
   ]
  },
  {
   "cell_type": "code",
   "execution_count": 4,
   "metadata": {},
   "outputs": [
    {
     "name": "stdout",
     "output_type": "stream",
     "text": [
      "processes 1\n",
      "processes 2\n",
      "processes 3\n",
      "processes 4\n"
     ]
    }
   ],
   "source": [
    "collected = []\n",
    "for num in range(1, pages + 1):\n",
    "    collected.extend(scrap(url.format(emotion, num)))\n",
    "    print(\"processes\", num)"
   ]
  },
  {
   "cell_type": "code",
   "execution_count": 5,
   "metadata": {},
   "outputs": [
    {
     "data": {
      "text/plain": [
       "120"
      ]
     },
     "execution_count": 5,
     "metadata": {},
     "output_type": "execute_result"
    }
   ],
   "source": [
    "len(collected)"
   ]
  },
  {
   "cell_type": "code",
   "execution_count": 6,
   "metadata": {},
   "outputs": [],
   "source": [
    "import pandas as pd"
   ]
  },
  {
   "cell_type": "code",
   "execution_count": 7,
   "metadata": {},
   "outputs": [
    {
     "data": {
      "text/html": [
       "<div>\n",
       "<style scoped>\n",
       "    .dataframe tbody tr th:only-of-type {\n",
       "        vertical-align: middle;\n",
       "    }\n",
       "\n",
       "    .dataframe tbody tr th {\n",
       "        vertical-align: top;\n",
       "    }\n",
       "\n",
       "    .dataframe thead th {\n",
       "        text-align: right;\n",
       "    }\n",
       "</style>\n",
       "<table border=\"1\" class=\"dataframe\">\n",
       "  <thead>\n",
       "    <tr style=\"text-align: right;\">\n",
       "      <th></th>\n",
       "      <th>author</th>\n",
       "      <th>quote</th>\n",
       "    </tr>\n",
       "  </thead>\n",
       "  <tbody>\n",
       "    <tr>\n",
       "      <th>0</th>\n",
       "      <td>Stephen Chbosky,</td>\n",
       "      <td>So, this is my life. And I want you to know th...</td>\n",
       "    </tr>\n",
       "    <tr>\n",
       "      <th>1</th>\n",
       "      <td>Henry Wadsworth Longfellow</td>\n",
       "      <td>Every man has his secret sorrows which the wor...</td>\n",
       "    </tr>\n",
       "    <tr>\n",
       "      <th>2</th>\n",
       "      <td>Nicholas Sparks</td>\n",
       "      <td>The reason it hurts so much to separate is bec...</td>\n",
       "    </tr>\n",
       "    <tr>\n",
       "      <th>3</th>\n",
       "      <td>Markus Zusak,</td>\n",
       "      <td>He does something to me, that boy. Every time....</td>\n",
       "    </tr>\n",
       "    <tr>\n",
       "      <th>4</th>\n",
       "      <td>Nick Hornby,</td>\n",
       "      <td>People worry about kids playing with guns, and...</td>\n",
       "    </tr>\n",
       "    <tr>\n",
       "      <th>...</th>\n",
       "      <td>...</td>\n",
       "      <td>...</td>\n",
       "    </tr>\n",
       "    <tr>\n",
       "      <th>115</th>\n",
       "      <td>Cammie McGovern,</td>\n",
       "      <td>I've decided that it's possible to love someon...</td>\n",
       "    </tr>\n",
       "    <tr>\n",
       "      <th>116</th>\n",
       "      <td>Antoine de Saint-Exupéry,</td>\n",
       "      <td>Why are you drinking? demanded the little prin...</td>\n",
       "    </tr>\n",
       "    <tr>\n",
       "      <th>117</th>\n",
       "      <td>Nikita Gill</td>\n",
       "      <td>People aren't born sad; we make them that way.</td>\n",
       "    </tr>\n",
       "    <tr>\n",
       "      <th>118</th>\n",
       "      <td>Mark A. Cooper,</td>\n",
       "      <td>Lucas heard a strange sound, something he hadn...</td>\n",
       "    </tr>\n",
       "    <tr>\n",
       "      <th>119</th>\n",
       "      <td>Hiromu Arakawa</td>\n",
       "      <td>The two brothers who sought to get their only ...</td>\n",
       "    </tr>\n",
       "  </tbody>\n",
       "</table>\n",
       "<p>120 rows × 2 columns</p>\n",
       "</div>"
      ],
      "text/plain": [
       "                         author  \\\n",
       "0              Stephen Chbosky,   \n",
       "1    Henry Wadsworth Longfellow   \n",
       "2               Nicholas Sparks   \n",
       "3                 Markus Zusak,   \n",
       "4                  Nick Hornby,   \n",
       "..                          ...   \n",
       "115            Cammie McGovern,   \n",
       "116   Antoine de Saint-Exupéry,   \n",
       "117                 Nikita Gill   \n",
       "118             Mark A. Cooper,   \n",
       "119              Hiromu Arakawa   \n",
       "\n",
       "                                                 quote  \n",
       "0    So, this is my life. And I want you to know th...  \n",
       "1    Every man has his secret sorrows which the wor...  \n",
       "2    The reason it hurts so much to separate is bec...  \n",
       "3    He does something to me, that boy. Every time....  \n",
       "4    People worry about kids playing with guns, and...  \n",
       "..                                                 ...  \n",
       "115  I've decided that it's possible to love someon...  \n",
       "116  Why are you drinking? demanded the little prin...  \n",
       "117     People aren't born sad; we make them that way.  \n",
       "118  Lucas heard a strange sound, something he hadn...  \n",
       "119  The two brothers who sought to get their only ...  \n",
       "\n",
       "[120 rows x 2 columns]"
      ]
     },
     "execution_count": 7,
     "metadata": {},
     "output_type": "execute_result"
    }
   ],
   "source": [
    "pd.DataFrame(collected, columns=[\"author\", \"quote\"])"
   ]
  },
  {
   "cell_type": "code",
   "execution_count": null,
   "metadata": {},
   "outputs": [],
   "source": []
  },
  {
   "cell_type": "code",
   "execution_count": null,
   "metadata": {},
   "outputs": [],
   "source": []
  },
  {
   "cell_type": "code",
   "execution_count": null,
   "metadata": {},
   "outputs": [],
   "source": []
  }
 ],
 "metadata": {
  "kernelspec": {
   "display_name": "Python 3",
   "language": "python",
   "name": "python3"
  },
  "language_info": {
   "codemirror_mode": {
    "name": "ipython",
    "version": 3
   },
   "file_extension": ".py",
   "mimetype": "text/x-python",
   "name": "python",
   "nbconvert_exporter": "python",
   "pygments_lexer": "ipython3",
   "version": "3.7.6"
  }
 },
 "nbformat": 4,
 "nbformat_minor": 4
}
